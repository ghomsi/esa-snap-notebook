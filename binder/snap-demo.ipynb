{
 "cells": [
  {
   "cell_type": "code",
   "execution_count": 1,
   "metadata": {},
   "outputs": [],
   "source": [
    "# notebook from https://gitlab.com/terradue-ogctb16/eoap/d169-jupyter-nb/eo-processing-snap/-/blob/master/snap-demo.ipynb\n",
    "import snappy_esa\n",
    "from snappy_esa import GPF"
   ]
  },
  {
   "cell_type": "code",
   "execution_count": 2,
   "metadata": {},
   "outputs": [],
   "source": [
    "def get_operator_help(operator):\n",
    "    \"\"\"This function prints the human readable information about a SNAP operator \n",
    "    \n",
    "    Args:\n",
    "        operator: SNAP operator\n",
    "        \n",
    "    Returns\n",
    "        The human readable information about the provided SNAP operator.\n",
    "    \n",
    "    Raises:\n",
    "        None.\n",
    "    \"\"\"\n",
    "    op_spi = GPF.getDefaultInstance().getOperatorSpiRegistry().getOperatorSpi(operator)\n",
    "\n",
    "    print('Operator name: {}'.format(op_spi.getOperatorDescriptor().getName()))\n",
    "\n",
    "    print('Operator alias: {}\\n'.format(op_spi.getOperatorDescriptor().getAlias()))\n",
    "    print('Parameters:\\n')\n",
    "    param_Desc = op_spi.getOperatorDescriptor().getParameterDescriptors()\n",
    "\n",
    "    for param in param_Desc:\n",
    "        \n",
    "        print('{}: {}\\nDefault Value: {}\\n'.format(param.getName(),\n",
    "                                                   param.getDescription(),\n",
    "                                                   param.getDefaultValue()))\n",
    "\n",
    "        print('Possible values: {}\\n'.format(list(param.getValueSet())))"
   ]
  },
  {
   "cell_type": "code",
   "execution_count": 3,
   "metadata": {},
   "outputs": [
    {
     "name": "stdout",
     "output_type": "stream",
     "text": [
      "Operator name: org.esa.s1tbx.calibration.gpf.CalibrationOp\n",
      "Operator alias: Calibration\n",
      "\n",
      "Parameters:\n",
      "\n",
      "sourceBandNames: The list of source bands.\n",
      "Default Value: None\n",
      "\n",
      "Possible values: []\n",
      "\n",
      "auxFile: The auxiliary file\n",
      "Default Value: Latest Auxiliary File\n",
      "\n",
      "Possible values: ['Latest Auxiliary File', 'Product Auxiliary File', 'External Auxiliary File']\n",
      "\n",
      "externalAuxFile: The antenna elevation pattern gain auxiliary data file.\n",
      "Default Value: None\n",
      "\n",
      "Possible values: []\n",
      "\n",
      "outputImageInComplex: Output image in complex\n",
      "Default Value: false\n",
      "\n",
      "Possible values: []\n",
      "\n",
      "outputImageScaleInDb: Output image scale\n",
      "Default Value: false\n",
      "\n",
      "Possible values: []\n",
      "\n",
      "createGammaBand: Create gamma0 virtual band\n",
      "Default Value: false\n",
      "\n",
      "Possible values: []\n",
      "\n",
      "createBetaBand: Create beta0 virtual band\n",
      "Default Value: false\n",
      "\n",
      "Possible values: []\n",
      "\n",
      "selectedPolarisations: The list of polarisations\n",
      "Default Value: None\n",
      "\n",
      "Possible values: []\n",
      "\n",
      "outputSigmaBand: Output sigma0 band\n",
      "Default Value: true\n",
      "\n",
      "Possible values: []\n",
      "\n",
      "outputGammaBand: Output gamma0 band\n",
      "Default Value: false\n",
      "\n",
      "Possible values: []\n",
      "\n",
      "outputBetaBand: Output beta0 band\n",
      "Default Value: false\n",
      "\n",
      "Possible values: []\n",
      "\n"
     ]
    }
   ],
   "source": [
    "get_operator_help('Calibration')"
   ]
  },
  {
   "cell_type": "code",
   "execution_count": 4,
   "metadata": {},
   "outputs": [],
   "source": [
    "def get_operator_default_parameters(operator):\n",
    "    \"\"\"This function returns a Python dictionary with the SNAP operator parameters and their default values, if available.\n",
    "    \n",
    "    Args:\n",
    "        operator: SNAP operator\n",
    "        \n",
    "    Returns\n",
    "        A Python dictionary with the SNAP operator parameters and their default values.\n",
    "    \n",
    "    Raises:\n",
    "        None.\n",
    "    \"\"\"\n",
    "    parameters = dict()\n",
    "\n",
    "    op_spi = GPF.getDefaultInstance().getOperatorSpiRegistry().getOperatorSpi(operator)\n",
    "\n",
    "    op_params = op_spi.getOperatorDescriptor().getParameterDescriptors()\n",
    "\n",
    "    \n",
    "    for param in op_params:\n",
    "    \n",
    "        parameters[param.getName()] = param.getDefaultValue()\n",
    "    \n",
    "    return parameters"
   ]
  },
  {
   "cell_type": "code",
   "execution_count": 5,
   "metadata": {},
   "outputs": [
    {
     "data": {
      "text/plain": [
       "{'sourceBandNames': None,\n",
       " 'auxFile': 'Latest Auxiliary File',\n",
       " 'externalAuxFile': None,\n",
       " 'outputImageInComplex': 'false',\n",
       " 'outputImageScaleInDb': 'false',\n",
       " 'createGammaBand': 'false',\n",
       " 'createBetaBand': 'false',\n",
       " 'selectedPolarisations': None,\n",
       " 'outputSigmaBand': 'true',\n",
       " 'outputGammaBand': 'false',\n",
       " 'outputBetaBand': 'false'}"
      ]
     },
     "execution_count": 5,
     "metadata": {},
     "output_type": "execute_result"
    }
   ],
   "source": [
    "get_operator_default_parameters('Calibration')"
   ]
  },
  {
   "cell_type": "code",
   "execution_count": null,
   "metadata": {},
   "outputs": [],
   "source": []
  }
 ],
 "metadata": {
  "kernelspec": {
   "display_name": "Python 3",
   "language": "python",
   "name": "python3"
  },
  "language_info": {
   "codemirror_mode": {
    "name": "ipython",
    "version": 3
   },
   "file_extension": ".py",
   "mimetype": "text/x-python",
   "name": "python",
   "nbconvert_exporter": "python",
   "pygments_lexer": "ipython3",
   "version": "3.7.6"
  }
 },
 "nbformat": 4,
 "nbformat_minor": 4
}